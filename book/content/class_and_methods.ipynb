{
 "cells": [
  {
   "cell_type": "code",
   "execution_count": 1,
   "id": "ec12e13c-d201-45f7-b73d-2c78a710f724",
   "metadata": {},
   "outputs": [
    {
     "ename": "NameError",
     "evalue": "name 'get_codons' is not defined",
     "output_type": "error",
     "traceback": [
      "\u001b[0;31m---------------------------------------------------------------------------\u001b[0m",
      "\u001b[0;31mNameError\u001b[0m                                 Traceback (most recent call last)",
      "Input \u001b[0;32mIn [1]\u001b[0m, in \u001b[0;36m<module>\u001b[0;34m\u001b[0m\n\u001b[0;32m----> 1\u001b[0m help(\u001b[43mget_codons\u001b[49m)\n",
      "\u001b[0;31mNameError\u001b[0m: name 'get_codons' is not defined"
     ]
    }
   ],
   "source": [
    "help(get_codons)"
   ]
  },
  {
   "cell_type": "code",
   "execution_count": 2,
   "id": "b69c79c5-edd9-4ecf-bcb4-ea4270ebc133",
   "metadata": {},
   "outputs": [],
   "source": [
    "import get_codons"
   ]
  },
  {
   "cell_type": "code",
   "execution_count": 3,
   "id": "79b27a36-3cf5-413b-adf1-3af7aefb3272",
   "metadata": {},
   "outputs": [
    {
     "name": "stdout",
     "output_type": "stream",
     "text": [
      "Help on module get_codons:\n",
      "\n",
      "NAME\n",
      "    get_codons\n",
      "\n",
      "FUNCTIONS\n",
      "    get_codons(seq)\n",
      "        Esta función divide la secuencia en segmentos de 3\n",
      "        y envía cada fragmento a una lista\n",
      "\n",
      "FILE\n",
      "    /Users/pgc288/Python/get_codons.py\n",
      "\n",
      "\n"
     ]
    }
   ],
   "source": [
    "help(get_codons)"
   ]
  },
  {
   "cell_type": "code",
   "execution_count": 4,
   "id": "1a0280fb-d9cc-4aba-b6be-fdafff5ec174",
   "metadata": {},
   "outputs": [
    {
     "ename": "NameError",
     "evalue": "name 'atgtools' is not defined",
     "output_type": "error",
     "traceback": [
      "\u001b[0;31m---------------------------------------------------------------------------\u001b[0m",
      "\u001b[0;31mNameError\u001b[0m                                 Traceback (most recent call last)",
      "Input \u001b[0;32mIn [4]\u001b[0m, in \u001b[0;36m<module>\u001b[0;34m\u001b[0m\n\u001b[0;32m----> 1\u001b[0m help(\u001b[43matgtools\u001b[49m)\n",
      "\u001b[0;31mNameError\u001b[0m: name 'atgtools' is not defined"
     ]
    }
   ],
   "source": [
    "help(atgtools)"
   ]
  },
  {
   "cell_type": "code",
   "execution_count": 5,
   "id": "c0fe5fa5-ccd8-49fe-ba34-b0805b9758b6",
   "metadata": {},
   "outputs": [],
   "source": [
    "import atgtools"
   ]
  },
  {
   "cell_type": "code",
   "execution_count": 6,
   "id": "b787fd42-1920-4d49-a8a8-e08f0d40cdd5",
   "metadata": {},
   "outputs": [
    {
     "name": "stdout",
     "output_type": "stream",
     "text": [
      "Help on module atgtools:\n",
      "\n",
      "NAME\n",
      "    atgtools\n",
      "\n",
      "FUNCTIONS\n",
      "    get_codons(seq)\n",
      "        Esta función divide la secuencia en segmentos de 3\n",
      "        y envía cada fragmento a una lista\n",
      "    \n",
      "    get_gc_content(seq)\n",
      "        Se acuerdan de esta opción de comentario\n",
      "        \n",
      "        Este es un programa que hace magia.\n",
      "        Calcula el contenido de GC.\n",
      "\n",
      "FILE\n",
      "    /Users/pgc288/Python/atgtools.py\n",
      "\n",
      "\n"
     ]
    }
   ],
   "source": [
    "help(atgtools)"
   ]
  },
  {
   "cell_type": "code",
   "execution_count": 7,
   "id": "4e1f38fa-06c8-4733-822e-6fa86508489f",
   "metadata": {},
   "outputs": [],
   "source": [
    "from atgtools import get_codons"
   ]
  },
  {
   "cell_type": "code",
   "execution_count": 8,
   "id": "e69a58a4-0299-4928-b025-acc938fe65b2",
   "metadata": {},
   "outputs": [
    {
     "name": "stdout",
     "output_type": "stream",
     "text": [
      "Help on function get_codons in module atgtools:\n",
      "\n",
      "get_codons(seq)\n",
      "    Esta función divide la secuencia en segmentos de 3\n",
      "    y envía cada fragmento a una lista\n",
      "\n"
     ]
    }
   ],
   "source": [
    "help(get_codons)"
   ]
  },
  {
   "cell_type": "code",
   "execution_count": 9,
   "id": "4b206fa6-055c-4182-87b1-9260d04689d5",
   "metadata": {},
   "outputs": [],
   "source": [
    "import atgtools as atg"
   ]
  },
  {
   "cell_type": "code",
   "execution_count": 11,
   "id": "387ff16e-e50f-4826-93f3-f45b019dc8b7",
   "metadata": {},
   "outputs": [
    {
     "name": "stdout",
     "output_type": "stream",
     "text": [
      "Help on function get_codons in module atgtools:\n",
      "\n",
      "get_codons(seq)\n",
      "    Esta función divide la secuencia en segmentos de 3\n",
      "    y envía cada fragmento a una lista\n",
      "\n"
     ]
    }
   ],
   "source": [
    "help(atg.get_codons)"
   ]
  },
  {
   "cell_type": "code",
   "execution_count": null,
   "id": "9d4873bf-7765-4ea8-8a29-2c42d24520bb",
   "metadata": {},
   "outputs": [],
   "source": [
    "atg.get_codons()"
   ]
  },
  {
   "cell_type": "code",
   "execution_count": 23,
   "id": "fd8c3bd1-2d9a-4b56-9513-5affeea913c9",
   "metadata": {},
   "outputs": [],
   "source": [
    "def tamaño():\n",
    "    print(\"grande\")"
   ]
  },
  {
   "cell_type": "code",
   "execution_count": 26,
   "id": "7dfe1ad0-885d-4b82-bdcd-43bbbb6aad4a",
   "metadata": {},
   "outputs": [
    {
     "name": "stdout",
     "output_type": "stream",
     "text": [
      "grande\n"
     ]
    }
   ],
   "source": [
    "# Función\n",
    "tamaño()"
   ]
  },
  {
   "cell_type": "code",
   "execution_count": 16,
   "id": "72210cd8-e2a6-4001-aa16-26a3af745733",
   "metadata": {},
   "outputs": [],
   "source": [
    "class Perros():\n",
    "    \n",
    "    razas = \"Pastor alemán\"\n",
    "    \n",
    "    def ladridos(self):\n",
    "        print(\"guau guau\")\n",
    "    \n",
    "    def color(self):\n",
    "        print(\"Negro\")"
   ]
  },
  {
   "cell_type": "code",
   "execution_count": 17,
   "id": "7410331e-8b28-4e48-840b-12880ce5f377",
   "metadata": {},
   "outputs": [],
   "source": [
    "# Clase\n",
    "mascota = Perros()"
   ]
  },
  {
   "cell_type": "code",
   "execution_count": 18,
   "id": "b547a6c7-052e-481d-aee4-83eeafa07b8d",
   "metadata": {},
   "outputs": [
    {
     "name": "stdout",
     "output_type": "stream",
     "text": [
      "Negro\n"
     ]
    }
   ],
   "source": [
    "# Método\n",
    "mascota.color()"
   ]
  },
  {
   "cell_type": "code",
   "execution_count": 19,
   "id": "9d436fc5-e0c8-4d73-a1f9-1ab2f78b370f",
   "metadata": {},
   "outputs": [
    {
     "data": {
      "text/plain": [
       "'Pastor alemán'"
      ]
     },
     "execution_count": 19,
     "metadata": {},
     "output_type": "execute_result"
    }
   ],
   "source": [
    "# Atributo\n",
    "mascota.razas"
   ]
  }
 ],
 "metadata": {
  "kernelspec": {
   "display_name": "Python 3",
   "language": "python",
   "name": "python3"
  },
  "language_info": {
   "codemirror_mode": {
    "name": "ipython",
    "version": 3
   },
   "file_extension": ".py",
   "mimetype": "text/x-python",
   "name": "python",
   "nbconvert_exporter": "python",
   "pygments_lexer": "ipython3",
   "version": "3.9.9"
  }
 },
 "nbformat": 4,
 "nbformat_minor": 5
}
