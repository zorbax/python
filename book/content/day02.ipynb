{
 "cells": [
  {
   "cell_type": "markdown",
   "metadata": {},
   "source": [
    "# Iteraciones y estructuras de datos"
   ]
  },
  {
   "cell_type": "markdown",
   "metadata": {},
   "source": [
    "## Iteraciones"
   ]
  },
  {
   "cell_type": "markdown",
   "metadata": {},
   "source": [
    "A diferencia de las estructuras de control condicionales, las estructuras de control iterativas (cíclicas, bucles o *loops*), nos permiten ejecutar código de manera repetitiva siempre y cuando se cumpla una condición. Las dos que existen en Python son `while`y `for`."
   ]
  },
  {
   "cell_type": "markdown",
   "metadata": {},
   "source": [
    "**while**"
   ]
  },
  {
   "cell_type": "code",
   "execution_count": 16,
   "metadata": {},
   "outputs": [
    {
     "name": "stdout",
     "output_type": "stream",
     "text": [
      "Tengo 24 años\n",
      "Tengo 25 años\n",
      "Tengo 26 años\n",
      "Tengo 27 años\n",
      "Tengo 28 años\n",
      "Tengo 29 años\n",
      "Tengo 30 años\n",
      "Tengo 31 años\n",
      "Tengo 32 años\n",
      "Tengo 33 años\n",
      "Tengo 34 años\n"
     ]
    }
   ],
   "source": [
    "edad = 24\n",
    "\n",
    "while edad <= 34:\n",
    "    print(\"Tengo %i años\" % edad)\n",
    "    edad = edad + 1"
   ]
  },
  {
   "cell_type": "code",
   "execution_count": null,
   "metadata": {},
   "outputs": [],
   "source": [
    "edad = 24\n",
    "while edad <= 34:\n",
    "    print(\"Tengo %i años\" % edad)\n",
    "    edad += 1"
   ]
  },
  {
   "cell_type": "markdown",
   "metadata": {},
   "source": [
    "Cada iteración, cada vuelta, se incrementa el valor de la variable edad que condiciona el bucle. Si la condición fuera `True`todo el tiempo el bucle estaría ejecutándose indefinidamente pero puedo usar una condición y `break` para romper el bucle de `while`"
   ]
  },
  {
   "cell_type": "code",
   "execution_count": 22,
   "metadata": {},
   "outputs": [
    {
     "name": "stdout",
     "output_type": "stream",
     "text": [
      "Tengo 24 años\n",
      "Tengo 25 años\n",
      "Tengo 26 años\n",
      "Tengo 27 años\n",
      "Tengo 28 años\n",
      "Tengo 29 años\n",
      "Tengo 30 años\n",
      "Tengo 31 años\n",
      "Tengo 32 años\n",
      "Tengo 33 años\n",
      "Tengo 34 años\n"
     ]
    }
   ],
   "source": [
    "edad = 24\n",
    "while edad > 20:\n",
    "    print(\"Tengo %i años\" % edad)\n",
    "    edad += 1\n",
    "    if edad > 34:\n",
    "        break"
   ]
  },
  {
   "cell_type": "markdown",
   "metadata": {},
   "source": [
    "**for**"
   ]
  },
  {
   "cell_type": "markdown",
   "metadata": {},
   "source": [
    "El blucle `for` nos permite iterar sobre variables que contengan objetos más complejos, como **listas** o **tuplas**. En el siguiente ejemplo utilizaremos la función `range()` para crear un rango entre dos números."
   ]
  },
  {
   "cell_type": "markdown",
   "metadata": {},
   "source": [
    "<div class=\"alert alert-block alert-success\">\n",
    "\n",
    "Hasta ahora hemos usado las siguientes funciones y métodos *built-in*:\n",
    "    \n",
    "* `print()`\n",
    "* `type()`\n",
    "* `int()`\n",
    "* `float()`\n",
    "* `round()`\n",
    "* `is_integer()`\n",
    "\n",
    "</div>"
   ]
  },
  {
   "cell_type": "code",
   "execution_count": 29,
   "metadata": {},
   "outputs": [
    {
     "name": "stdout",
     "output_type": "stream",
     "text": [
      "Tengo 24 años\n",
      "Tengo 25 años\n",
      "Tengo 26 años\n",
      "Tengo 27 años\n",
      "Tengo 28 años\n",
      "Tengo 29 años\n",
      "Tengo 30 años\n",
      "Tengo 31 años\n",
      "Tengo 32 años\n",
      "Tengo 33 años\n"
     ]
    }
   ],
   "source": [
    "for edad in range(24, 34):\n",
    "    print(\"Tengo %i años\" % edad)"
   ]
  },
  {
   "cell_type": "code",
   "execution_count": 24,
   "metadata": {
    "scrolled": true
   },
   "outputs": [
    {
     "name": "stdout",
     "output_type": "stream",
     "text": [
      "A\n",
      "T\n",
      "G\n",
      "G\n",
      "T\n",
      "C\n",
      "G\n",
      "T\n",
      "T\n",
      "A\n",
      "G\n",
      "T\n",
      "T\n",
      "G\n",
      "C\n",
      "T\n",
      "G\n",
      "A\n",
      "T\n",
      "G\n"
     ]
    }
   ],
   "source": [
    "seq_1 = \"ATGGTCGTTAGTTGCTGATG\"\n",
    "\n",
    "for nucleotide in seq_1:\n",
    "    print(nucleotide)"
   ]
  },
  {
   "cell_type": "markdown",
   "metadata": {},
   "source": [
    "## Estructura de datos"
   ]
  },
  {
   "cell_type": "markdown",
   "metadata": {},
   "source": [
    "### Listas"
   ]
  },
  {
   "cell_type": "markdown",
   "metadata": {},
   "source": [
    "Hay diferentes tipos de estructura de datos que permiten utilizar datos compuestos. La más versátil es la lista, para definir una basta con escribir valores entre corchetes, separando los elementos con comas cada uno."
   ]
  },
  {
   "cell_type": "code",
   "execution_count": 30,
   "metadata": {},
   "outputs": [],
   "source": [
    "lista_supermercado = ['huevos', 'jamón', 'leche', 'café']"
   ]
  },
  {
   "cell_type": "code",
   "execution_count": 31,
   "metadata": {},
   "outputs": [
    {
     "name": "stdout",
     "output_type": "stream",
     "text": [
      "['huevos', 'jamón', 'leche', 'café']\n"
     ]
    }
   ],
   "source": [
    "print(lista_supermercado)"
   ]
  },
  {
   "cell_type": "code",
   "execution_count": 32,
   "metadata": {},
   "outputs": [
    {
     "data": {
      "text/plain": [
       "list"
      ]
     },
     "execution_count": 32,
     "metadata": {},
     "output_type": "execute_result"
    }
   ],
   "source": [
    "type(lista_supermercado)"
   ]
  },
  {
   "cell_type": "markdown",
   "metadata": {},
   "source": [
    "Las listas en Python son:\n",
    "\n",
    "* **heterogéneas**: pueden estar conformadas por elementos de distintos *tipo*, incluidos otras listas.\n",
    "* **mutables**: sus elementos pueden modificarse."
   ]
  },
  {
   "cell_type": "code",
   "execution_count": 42,
   "metadata": {},
   "outputs": [],
   "source": [
    "lista = ['huevos', 'jamón', 100, 45, 3.14]"
   ]
  },
  {
   "cell_type": "code",
   "execution_count": 37,
   "metadata": {},
   "outputs": [
    {
     "name": "stdout",
     "output_type": "stream",
     "text": [
      "['huevos', 'jamón', 100, 45, 3.14]\n"
     ]
    }
   ],
   "source": [
    "print(lista)"
   ]
  },
  {
   "cell_type": "code",
   "execution_count": 36,
   "metadata": {},
   "outputs": [
    {
     "name": "stdout",
     "output_type": "stream",
     "text": [
      "huevos jamón 100 45 3.14\n"
     ]
    }
   ],
   "source": [
    "# print(*lista)"
   ]
  },
  {
   "cell_type": "code",
   "execution_count": 38,
   "metadata": {},
   "outputs": [],
   "source": [
    "nueva_lista = [lista_supermercado, lista]"
   ]
  },
  {
   "cell_type": "code",
   "execution_count": 39,
   "metadata": {},
   "outputs": [
    {
     "name": "stdout",
     "output_type": "stream",
     "text": [
      "[['huevos', 'jamón', 'leche', 'café'], ['huevos', 'jamón', 100, 45, 3.14]]\n"
     ]
    }
   ],
   "source": [
    "print(nueva_lista)"
   ]
  },
  {
   "cell_type": "code",
   "execution_count": 40,
   "metadata": {},
   "outputs": [
    {
     "data": {
      "text/plain": [
       "list"
      ]
     },
     "execution_count": 40,
     "metadata": {},
     "output_type": "execute_result"
    }
   ],
   "source": [
    "type(nueva_lista)"
   ]
  },
  {
   "cell_type": "markdown",
   "metadata": {},
   "source": [
    "**slicing**"
   ]
  },
  {
   "cell_type": "markdown",
   "metadata": {},
   "source": [
    "Al igual que las cadenas de texto, puedo acceder a los elementos de la lista utilizando *slicing* o el índice. **Recuerda que Python empieza a contar desde 0**."
   ]
  },
  {
   "cell_type": "code",
   "execution_count": 43,
   "metadata": {},
   "outputs": [
    {
     "data": {
      "text/plain": [
       "'huevos'"
      ]
     },
     "execution_count": 43,
     "metadata": {},
     "output_type": "execute_result"
    }
   ],
   "source": [
    "lista[0]"
   ]
  },
  {
   "cell_type": "code",
   "execution_count": 44,
   "metadata": {},
   "outputs": [
    {
     "data": {
      "text/plain": [
       "'jamón'"
      ]
     },
     "execution_count": 44,
     "metadata": {},
     "output_type": "execute_result"
    }
   ],
   "source": [
    "lista[1]"
   ]
  },
  {
   "cell_type": "code",
   "execution_count": 45,
   "metadata": {},
   "outputs": [
    {
     "data": {
      "text/plain": [
       "100"
      ]
     },
     "execution_count": 45,
     "metadata": {},
     "output_type": "execute_result"
    }
   ],
   "source": [
    "lista[2]"
   ]
  },
  {
   "cell_type": "code",
   "execution_count": 47,
   "metadata": {},
   "outputs": [
    {
     "data": {
      "text/plain": [
       "['huevos', 'jamón', 100]"
      ]
     },
     "execution_count": 47,
     "metadata": {},
     "output_type": "execute_result"
    }
   ],
   "source": [
    "lista[0:3]"
   ]
  },
  {
   "cell_type": "markdown",
   "metadata": {},
   "source": [
    "Alguien puede explicar ¿qué está sucediendo en la siguientes celdas?"
   ]
  },
  {
   "cell_type": "code",
   "execution_count": 48,
   "metadata": {},
   "outputs": [
    {
     "data": {
      "text/plain": [
       "[['huevos', 'jamón', 'leche', 'café'], ['huevos', 'jamón', 100, 45, 3.14]]"
      ]
     },
     "execution_count": 48,
     "metadata": {},
     "output_type": "execute_result"
    }
   ],
   "source": [
    "nueva_lista"
   ]
  },
  {
   "cell_type": "code",
   "execution_count": 49,
   "metadata": {},
   "outputs": [
    {
     "data": {
      "text/plain": [
       "['leche', 'café']"
      ]
     },
     "execution_count": 49,
     "metadata": {},
     "output_type": "execute_result"
    }
   ],
   "source": [
    "nueva_lista[0][2:4]"
   ]
  },
  {
   "cell_type": "code",
   "execution_count": 50,
   "metadata": {},
   "outputs": [
    {
     "data": {
      "text/plain": [
       "['huevos', 'jamón']"
      ]
     },
     "execution_count": 50,
     "metadata": {},
     "output_type": "execute_result"
    }
   ],
   "source": [
    "nueva_lista[1][0:2]"
   ]
  },
  {
   "cell_type": "markdown",
   "metadata": {},
   "source": [
    "Puedo utilizar la función `len()` parar acceder al número de elementos de la lista."
   ]
  },
  {
   "cell_type": "code",
   "execution_count": 51,
   "metadata": {},
   "outputs": [
    {
     "data": {
      "text/plain": [
       "4"
      ]
     },
     "execution_count": 51,
     "metadata": {},
     "output_type": "execute_result"
    }
   ],
   "source": [
    "len(lista_supermercado)"
   ]
  },
  {
   "cell_type": "code",
   "execution_count": 52,
   "metadata": {},
   "outputs": [
    {
     "data": {
      "text/plain": [
       "5"
      ]
     },
     "execution_count": 52,
     "metadata": {},
     "output_type": "execute_result"
    }
   ],
   "source": [
    "len(lista)"
   ]
  },
  {
   "cell_type": "code",
   "execution_count": 56,
   "metadata": {},
   "outputs": [
    {
     "data": {
      "text/plain": [
       "2"
      ]
     },
     "execution_count": 56,
     "metadata": {},
     "output_type": "execute_result"
    }
   ],
   "source": [
    "len(nueva_lista)"
   ]
  },
  {
   "cell_type": "markdown",
   "metadata": {},
   "source": [
    "Un ejemplo más relevante"
   ]
  },
  {
   "cell_type": "code",
   "execution_count": 60,
   "metadata": {},
   "outputs": [],
   "source": [
    "ranks = [\"kingdom\", \"phylum\", \"class\", \"order\"]\n",
    "lower_ranks = ranks[-2:]"
   ]
  },
  {
   "cell_type": "code",
   "execution_count": 59,
   "metadata": {},
   "outputs": [
    {
     "data": {
      "text/plain": [
       "['class', 'order']"
      ]
     },
     "execution_count": 59,
     "metadata": {},
     "output_type": "execute_result"
    }
   ],
   "source": [
    "lower_ranks"
   ]
  },
  {
   "cell_type": "markdown",
   "metadata": {},
   "source": [
    "Puedo agregar elementos a la lista."
   ]
  },
  {
   "cell_type": "code",
   "execution_count": 61,
   "metadata": {},
   "outputs": [],
   "source": [
    "ranks.append(\"family\")"
   ]
  },
  {
   "cell_type": "code",
   "execution_count": 62,
   "metadata": {},
   "outputs": [
    {
     "data": {
      "text/plain": [
       "['kingdom', 'phylum', 'class', 'order', 'family']"
      ]
     },
     "execution_count": 62,
     "metadata": {},
     "output_type": "execute_result"
    }
   ],
   "source": [
    "ranks"
   ]
  },
  {
   "cell_type": "code",
   "execution_count": 63,
   "metadata": {},
   "outputs": [
    {
     "ename": "TypeError",
     "evalue": "append() takes exactly one argument (2 given)",
     "output_type": "error",
     "traceback": [
      "\u001b[0;31m---------------------------------------------------------------------------\u001b[0m",
      "\u001b[0;31mTypeError\u001b[0m                                 Traceback (most recent call last)",
      "\u001b[0;32m<ipython-input-63-bbc190964f8f>\u001b[0m in \u001b[0;36m<module>\u001b[0;34m()\u001b[0m\n\u001b[0;32m----> 1\u001b[0;31m \u001b[0mranks\u001b[0m\u001b[0;34m.\u001b[0m\u001b[0mappend\u001b[0m\u001b[0;34m(\u001b[0m\u001b[0;34m\"genus\"\u001b[0m\u001b[0;34m,\u001b[0m \u001b[0;34m\"species\"\u001b[0m\u001b[0;34m)\u001b[0m\u001b[0;34m\u001b[0m\u001b[0m\n\u001b[0m",
      "\u001b[0;31mTypeError\u001b[0m: append() takes exactly one argument (2 given)"
     ]
    }
   ],
   "source": [
    "ranks.append(\"genus\", \"species\")"
   ]
  },
  {
   "cell_type": "markdown",
   "metadata": {},
   "source": [
    "Si quiero agregar más de un elemento debo usar `extend()`"
   ]
  },
  {
   "cell_type": "code",
   "execution_count": 65,
   "metadata": {},
   "outputs": [],
   "source": [
    "ranks.extend([\"genus\", \"species\"])"
   ]
  },
  {
   "cell_type": "code",
   "execution_count": 66,
   "metadata": {},
   "outputs": [
    {
     "data": {
      "text/plain": [
       "['kingdom', 'phylum', 'class', 'order', 'family', 'genus', 'species']"
      ]
     },
     "execution_count": 66,
     "metadata": {},
     "output_type": "execute_result"
    }
   ],
   "source": [
    "ranks"
   ]
  },
  {
   "cell_type": "markdown",
   "metadata": {},
   "source": [
    "Pero qué tal si quiero agregar un elemento a una lista de listas. ¿Qué hago?"
   ]
  },
  {
   "cell_type": "code",
   "execution_count": 67,
   "metadata": {},
   "outputs": [
    {
     "data": {
      "text/plain": [
       "[['huevos', 'jamón', 'leche', 'café'], ['huevos', 'jamón', 100, 45, 3.14]]"
      ]
     },
     "execution_count": 67,
     "metadata": {},
     "output_type": "execute_result"
    }
   ],
   "source": [
    "nueva_lista"
   ]
  },
  {
   "cell_type": "code",
   "execution_count": null,
   "metadata": {},
   "outputs": [],
   "source": [
    "nueva_lista[0].append(\"azúcar\")  # Selecciono el índice de la lista a la que quiero agregar el elemento"
   ]
  },
  {
   "cell_type": "code",
   "execution_count": 68,
   "metadata": {},
   "outputs": [],
   "source": [
    "nueva_lista[1][1] = \"tocino\"  # Puedo reemplazar un elemento por otro utilizando los índices"
   ]
  },
  {
   "cell_type": "code",
   "execution_count": 70,
   "metadata": {},
   "outputs": [
    {
     "data": {
      "text/plain": [
       "[['huevos', 'jamón', 'leche', 'café'], ['huevos', 'tocino', 100, 45, 3.14]]"
      ]
     },
     "execution_count": 70,
     "metadata": {},
     "output_type": "execute_result"
    }
   ],
   "source": [
    "nueva_lista"
   ]
  },
  {
   "cell_type": "markdown",
   "metadata": {},
   "source": [
    "Ok, regresemos a la lista `ranks`"
   ]
  },
  {
   "cell_type": "code",
   "execution_count": 71,
   "metadata": {},
   "outputs": [
    {
     "data": {
      "text/plain": [
       "['class', 'family', 'genus', 'kingdom', 'order', 'phylum', 'species']"
      ]
     },
     "execution_count": 71,
     "metadata": {},
     "output_type": "execute_result"
    }
   ],
   "source": [
    "sorted(ranks)  # Ordena pero no modifica el orden original de la lista"
   ]
  },
  {
   "cell_type": "code",
   "execution_count": 72,
   "metadata": {},
   "outputs": [
    {
     "data": {
      "text/plain": [
       "['kingdom', 'phylum', 'class', 'order', 'family', 'genus', 'species']"
      ]
     },
     "execution_count": 72,
     "metadata": {},
     "output_type": "execute_result"
    }
   ],
   "source": [
    "ranks"
   ]
  },
  {
   "cell_type": "code",
   "execution_count": 73,
   "metadata": {},
   "outputs": [],
   "source": [
    "ranks.reverse()  # Ordena de manera inversa y el cambio es permanente"
   ]
  },
  {
   "cell_type": "code",
   "execution_count": 75,
   "metadata": {},
   "outputs": [],
   "source": [
    "ranks.reverse()"
   ]
  },
  {
   "cell_type": "code",
   "execution_count": 76,
   "metadata": {},
   "outputs": [
    {
     "data": {
      "text/plain": [
       "['kingdom', 'phylum', 'class', 'order', 'family', 'genus', 'species']"
      ]
     },
     "execution_count": 76,
     "metadata": {},
     "output_type": "execute_result"
    }
   ],
   "source": [
    "ranks"
   ]
  },
  {
   "cell_type": "code",
   "execution_count": null,
   "metadata": {},
   "outputs": [],
   "source": [
    "ranks.sort()  # Ordena y el cambio es permanente"
   ]
  },
  {
   "cell_type": "code",
   "execution_count": null,
   "metadata": {},
   "outputs": [],
   "source": [
    "ranks"
   ]
  },
  {
   "cell_type": "markdown",
   "metadata": {},
   "source": [
    "**Pregunta**: `apend()`, `extend()`, `sort()`, `reverse()`, `sorted()` ¿Son funciones o métodos?"
   ]
  },
  {
   "cell_type": "markdown",
   "metadata": {},
   "source": [
    "Cada estructura de datos tiene métodos integrados."
   ]
  },
  {
   "cell_type": "markdown",
   "metadata": {},
   "source": [
    "¿Cuál creen que sea el método para eliminar elementos de una lista? ¿`delete()`, `remove()`, `del()` o `rm()`?"
   ]
  },
  {
   "cell_type": "markdown",
   "metadata": {},
   "source": [
    "**for**"
   ]
  },
  {
   "cell_type": "code",
   "execution_count": 79,
   "metadata": {},
   "outputs": [
    {
     "name": "stdout",
     "output_type": "stream",
     "text": [
      "kingdom\n",
      "phylum\n",
      "class\n",
      "order\n",
      "family\n",
      "genus\n",
      "species\n"
     ]
    }
   ],
   "source": [
    "for clade in ranks:\n",
    "    print(clade)"
   ]
  },
  {
   "cell_type": "markdown",
   "metadata": {},
   "source": [
    "¿Qué es lo que realiza el método `index()`?"
   ]
  },
  {
   "cell_type": "code",
   "execution_count": 80,
   "metadata": {},
   "outputs": [
    {
     "name": "stdout",
     "output_type": "stream",
     "text": [
      "0\n",
      "1\n",
      "2\n",
      "3\n",
      "4\n",
      "5\n",
      "6\n"
     ]
    }
   ],
   "source": [
    "for clade in ranks:\n",
    "    print(ranks.index(clade))"
   ]
  },
  {
   "cell_type": "code",
   "execution_count": 82,
   "metadata": {},
   "outputs": [],
   "source": [
    "codones = \"CAG, CGU, CGC, CGA, CGG, AUU, AUC\""
   ]
  },
  {
   "cell_type": "code",
   "execution_count": 83,
   "metadata": {},
   "outputs": [
    {
     "name": "stdout",
     "output_type": "stream",
     "text": [
      "CAG, CGU, CGC, CGA, CGG, AUU, AUC\n"
     ]
    }
   ],
   "source": [
    "print(codones)"
   ]
  },
  {
   "cell_type": "code",
   "execution_count": 84,
   "metadata": {},
   "outputs": [
    {
     "data": {
      "text/plain": [
       "str"
      ]
     },
     "execution_count": 84,
     "metadata": {},
     "output_type": "execute_result"
    }
   ],
   "source": [
    "type(codones)"
   ]
  },
  {
   "cell_type": "markdown",
   "metadata": {},
   "source": [
    "El método `split()` utiliza un argumento, llamado delimitador, y divide la cadena de texto original donde quiera que encuentre el delimitador produciendo una lista."
   ]
  },
  {
   "cell_type": "code",
   "execution_count": 85,
   "metadata": {},
   "outputs": [],
   "source": [
    "lista_codones = codones.split(\",\")"
   ]
  },
  {
   "cell_type": "code",
   "execution_count": 86,
   "metadata": {},
   "outputs": [
    {
     "name": "stdout",
     "output_type": "stream",
     "text": [
      "['CAG', ' CGU', ' CGC', ' CGA', ' CGG', ' AUU', ' AUC']\n"
     ]
    }
   ],
   "source": [
    "print(lista_codones)"
   ]
  },
  {
   "cell_type": "code",
   "execution_count": 88,
   "metadata": {},
   "outputs": [
    {
     "data": {
      "text/plain": [
       "list"
      ]
     },
     "execution_count": 88,
     "metadata": {},
     "output_type": "execute_result"
    }
   ],
   "source": [
    "type(lista_codones)"
   ]
  },
  {
   "cell_type": "markdown",
   "metadata": {},
   "source": [
    "#### Ejercicios 2"
   ]
  },
  {
   "cell_type": "markdown",
   "metadata": {},
   "source": [
    "**Hagamos un programa simple para calcular el contenido de GC de una secuencia de DNA.**"
   ]
  },
  {
   "cell_type": "code",
   "execution_count": 117,
   "metadata": {},
   "outputs": [],
   "source": [
    "seq = \"ATGCGTGATGCGCTGAGCGCTAGCGCGATAGCGATAGCGATCAAAGGCGCGCGCGTCGCTGCTGCTATGA\"\n",
    "\n",
    "c = a = g = t = 0\n",
    "\n",
    "# c = 0\n",
    "# a = 0\n",
    "# g = 0\n",
    "# t = 0"
   ]
  },
  {
   "cell_type": "code",
   "execution_count": 118,
   "metadata": {},
   "outputs": [],
   "source": [
    "for nucl in seq:\n",
    "    if nucl == \"C\":\n",
    "        c += 1\n",
    "    elif nucl == \"G\":\n",
    "        g += 1\n",
    "    elif nucl == \"A\":\n",
    "        a += 1\n",
    "    elif nucl == \"T\":\n",
    "        t += 1"
   ]
  },
  {
   "cell_type": "code",
   "execution_count": 119,
   "metadata": {},
   "outputs": [
    {
     "name": "stdout",
     "output_type": "stream",
     "text": [
      "18 25 14 13\n"
     ]
    }
   ],
   "source": [
    "print(c, g, a, t)"
   ]
  },
  {
   "cell_type": "code",
   "execution_count": 120,
   "metadata": {},
   "outputs": [
    {
     "name": "stdout",
     "output_type": "stream",
     "text": [
      "C: 18, G: 25, A: 14, T: 13\n"
     ]
    }
   ],
   "source": [
    "print(\"C: %i, G: %i, A: %i, T: %i\" % (c, g, a, t))"
   ]
  },
  {
   "cell_type": "code",
   "execution_count": 102,
   "metadata": {},
   "outputs": [],
   "source": [
    "gc_content = (g + c) * 100 / (a + t + g + c)"
   ]
  },
  {
   "cell_type": "code",
   "execution_count": 101,
   "metadata": {},
   "outputs": [
    {
     "name": "stdout",
     "output_type": "stream",
     "text": [
      "61.42857142857143\n"
     ]
    }
   ],
   "source": [
    "print(gc_content)"
   ]
  },
  {
   "cell_type": "code",
   "execution_count": 116,
   "metadata": {},
   "outputs": [
    {
     "name": "stdout",
     "output_type": "stream",
     "text": [
      "GC content: 61.43%\n"
     ]
    }
   ],
   "source": [
    "print(\"GC content: %.2f\" % gc_content + \"%\")"
   ]
  },
  {
   "cell_type": "markdown",
   "metadata": {},
   "source": [
    "¿Y qué tal si quiero reutilizar este código?"
   ]
  },
  {
   "cell_type": "raw",
   "metadata": {},
   "source": [
    "def function(input):\n",
    "    something(input)\n",
    "    return"
   ]
  },
  {
   "cell_type": "code",
   "execution_count": 122,
   "metadata": {},
   "outputs": [],
   "source": [
    "def get_gc_content(seq):\n",
    "    \"\"\"\n",
    "    Se acuerdan de esta opción de comentario\n",
    "\n",
    "    Este es un programa que hace magia.\n",
    "    Calcula el contenido de GC.\n",
    "    \"\"\"\n",
    "    c = a = g = t = 0\n",
    "\n",
    "    for nucl in seq:\n",
    "        if nucl == \"C\":\n",
    "            c += 1\n",
    "        elif nucl == \"G\":\n",
    "            g += 1\n",
    "        elif nucl == \"A\":\n",
    "            a += 1\n",
    "        elif nucl == \"T\":\n",
    "            t += 1\n",
    "\n",
    "    gc_content = (g + c) * 100 / (a + t + g + c)\n",
    "    return gc_content"
   ]
  },
  {
   "cell_type": "code",
   "execution_count": 123,
   "metadata": {},
   "outputs": [
    {
     "name": "stdout",
     "output_type": "stream",
     "text": [
      "Help on function get_gc_content in module __main__:\n",
      "\n",
      "get_gc_content(seq)\n",
      "    Se acuerdan de esta opción de comentario\n",
      "    \n",
      "    Este es un programa que hace magia.\n",
      "    Calcula el contenido de GC.\n",
      "\n"
     ]
    }
   ],
   "source": [
    "help(get_gc_content)"
   ]
  },
  {
   "cell_type": "code",
   "execution_count": 131,
   "metadata": {},
   "outputs": [],
   "source": [
    "awesome_seq = \"ATGCGTGAGTCGCGTAGCGCTAGGCGCGCTATTTTTTTTTTTTTTTATCTATGACCCCCCCCCCCCCCGGGGGG\""
   ]
  },
  {
   "cell_type": "code",
   "execution_count": 132,
   "metadata": {},
   "outputs": [
    {
     "data": {
      "text/plain": [
       "56.75675675675676"
      ]
     },
     "execution_count": 132,
     "metadata": {},
     "output_type": "execute_result"
    }
   ],
   "source": [
    "get_gc_content(awesome_seq)"
   ]
  },
  {
   "cell_type": "code",
   "execution_count": null,
   "metadata": {},
   "outputs": [],
   "source": [
    "print(\"GC content: %.2f\" % get_gc_content(seq2))"
   ]
  },
  {
   "cell_type": "markdown",
   "metadata": {},
   "source": [
    "**Hagamos un programa para convertir secuencias de DNA a RNA.**"
   ]
  },
  {
   "cell_type": "code",
   "execution_count": 1,
   "metadata": {},
   "outputs": [],
   "source": [
    "seq = \"ATGCGTGATGCGCTGAGCGCTAGCGCGATAGCGATAGCGATCAAAGGCGCGCGCGTCGCTGCTGCTATGA\"\n",
    "\n",
    "seq_rna = seq.replace(\"T\", \"U\")"
   ]
  },
  {
   "cell_type": "code",
   "execution_count": 2,
   "metadata": {},
   "outputs": [
    {
     "data": {
      "text/plain": [
       "'AUGCGUGAUGCGCUGAGCGCUAGCGCGAUAGCGAUAGCGAUCAAAGGCGCGCGCGUCGCUGCUGCUAUGA'"
      ]
     },
     "execution_count": 2,
     "metadata": {},
     "output_type": "execute_result"
    }
   ],
   "source": [
    "seq_rna"
   ]
  },
  {
   "cell_type": "markdown",
   "metadata": {},
   "source": [
    "**Crear lista de codones**"
   ]
  },
  {
   "cell_type": "code",
   "execution_count": 3,
   "metadata": {},
   "outputs": [],
   "source": [
    "codon_list = []\n",
    "\n",
    "for i in range(0, len(seq_rna), 3):\n",
    "    codon = seq_rna[i:i+3]\n",
    "    if len(codon) < 3:\n",
    "        codon_list.append(\"*\")\n",
    "    else:\n",
    "        codon_list.append(codon)"
   ]
  },
  {
   "cell_type": "code",
   "execution_count": 5,
   "metadata": {},
   "outputs": [
    {
     "data": {
      "text/plain": [
       "['AUG',\n",
       " 'CGU',\n",
       " 'GAU',\n",
       " 'GCG',\n",
       " 'CUG',\n",
       " 'AGC',\n",
       " 'GCU',\n",
       " 'AGC',\n",
       " 'GCG',\n",
       " 'AUA',\n",
       " 'GCG',\n",
       " 'AUA',\n",
       " 'GCG',\n",
       " 'AUC',\n",
       " 'AAA',\n",
       " 'GGC',\n",
       " 'GCG',\n",
       " 'CGC',\n",
       " 'GUC',\n",
       " 'GCU',\n",
       " 'GCU',\n",
       " 'GCU',\n",
       " 'AUG',\n",
       " '*']"
      ]
     },
     "execution_count": 5,
     "metadata": {},
     "output_type": "execute_result"
    }
   ],
   "source": [
    "[\"*\" if len(seq_rna[i:i+3]) < 3 else seq_rna[i:i+3] for i in range(0, len(seq_rna), 3)]"
   ]
  },
  {
   "cell_type": "code",
   "execution_count": 139,
   "metadata": {},
   "outputs": [
    {
     "name": "stdout",
     "output_type": "stream",
     "text": [
      "['AUG', 'CGU', 'GAU', 'GCG', 'CUG', 'AGC', 'GCU', 'AGC', 'GCG', 'AUA', 'GCG', 'AUA', 'GCG', 'AUC', 'AAA', 'GGC', 'GCG', 'CGC', 'GUC', 'GCU', 'GCU', 'GCU', 'AUG', '*']\n"
     ]
    }
   ],
   "source": [
    "print(codon_list)"
   ]
  },
  {
   "cell_type": "markdown",
   "metadata": {},
   "source": [
    "Podemos generar una **funcion** para utilizar el código más adelante con una secuencia diferente."
   ]
  },
  {
   "cell_type": "code",
   "execution_count": 145,
   "metadata": {},
   "outputs": [],
   "source": [
    "def get_codons(seq):\n",
    "    \"\"\"\n",
    "    Esta función divide la secuencia en segmentos de 3\n",
    "    y envía cada fragmento a una lista\n",
    "    \"\"\"\n",
    "    codon_list = []\n",
    "\n",
    "    for i in range(0, len(seq_rna), 3):\n",
    "        codon = seq_rna[i:i + 3]\n",
    "        if len(codon) < 3:\n",
    "            codon_list.append(\"*\")\n",
    "        else:\n",
    "            codon_list.append(codon)\n",
    "    return codon_list"
   ]
  },
  {
   "cell_type": "code",
   "execution_count": null,
   "metadata": {},
   "outputs": [],
   "source": [
    "help(get_codons)"
   ]
  },
  {
   "cell_type": "code",
   "execution_count": 146,
   "metadata": {},
   "outputs": [
    {
     "data": {
      "text/plain": [
       "['AUG',\n",
       " 'CGU',\n",
       " 'GAU',\n",
       " 'GCG',\n",
       " 'CUG',\n",
       " 'AGC',\n",
       " 'GCU',\n",
       " 'AGC',\n",
       " 'GCG',\n",
       " 'AUA',\n",
       " 'GCG',\n",
       " 'AUA',\n",
       " 'GCG',\n",
       " 'AUC',\n",
       " 'AAA',\n",
       " 'GGC',\n",
       " 'GCG',\n",
       " 'CGC',\n",
       " 'GUC',\n",
       " 'GCU',\n",
       " 'GCU',\n",
       " 'GCU',\n",
       " 'AUG',\n",
       " '*']"
      ]
     },
     "execution_count": 146,
     "metadata": {},
     "output_type": "execute_result"
    }
   ],
   "source": [
    "get_codons(seq_rna)"
   ]
  },
  {
   "cell_type": "markdown",
   "metadata": {},
   "source": [
    "### Diccionarios"
   ]
  },
  {
   "cell_type": "markdown",
   "metadata": {},
   "source": [
    "Los diccionarios son usados para almacenar valores de datos en pares llave:valor (key:value). A partir de Python 3.7 los diccionarios se evaluan de manera **ordenada**. No permite duplicados."
   ]
  },
  {
   "cell_type": "code",
   "execution_count": 1,
   "metadata": {},
   "outputs": [],
   "source": [
    "desayuno = {\n",
    "    \"Lunes\": \"Chilaquiles\",\n",
    "    \"Martes\": \"Huevos rancheros\",\n",
    "    \"Miércoles\": \"Zucaritas\",\n",
    "    \"Jueves\": \"Quesadillas (con queso)\",\n",
    "    \"Viernes\": \"Guajolota Combo Mix\",\n",
    "}"
   ]
  },
  {
   "cell_type": "code",
   "execution_count": 2,
   "metadata": {},
   "outputs": [
    {
     "data": {
      "text/plain": [
       "{'Lunes': 'Chilaquiles',\n",
       " 'Martes': 'Huevos rancheros',\n",
       " 'Miércoles': 'Zucaritas',\n",
       " 'Jueves': 'Quesadillas (con queso)',\n",
       " 'Viernes': 'Guajolota Combo Mix'}"
      ]
     },
     "execution_count": 2,
     "metadata": {},
     "output_type": "execute_result"
    }
   ],
   "source": [
    "desayuno"
   ]
  },
  {
   "cell_type": "code",
   "execution_count": 20,
   "metadata": {},
   "outputs": [
    {
     "data": {
      "text/plain": [
       "'Chilaquiles'"
      ]
     },
     "execution_count": 20,
     "metadata": {},
     "output_type": "execute_result"
    }
   ],
   "source": [
    "desayuno['Lunes']"
   ]
  },
  {
   "cell_type": "code",
   "execution_count": 16,
   "metadata": {},
   "outputs": [
    {
     "data": {
      "text/plain": [
       "'Chilaquiles'"
      ]
     },
     "execution_count": 16,
     "metadata": {},
     "output_type": "execute_result"
    }
   ],
   "source": [
    "desayuno.get('Lunes')"
   ]
  },
  {
   "cell_type": "code",
   "execution_count": 17,
   "metadata": {},
   "outputs": [
    {
     "ename": "KeyError",
     "evalue": "'Sábado'",
     "output_type": "error",
     "traceback": [
      "\u001b[0;31m---------------------------------------------------------------------------\u001b[0m",
      "\u001b[0;31mKeyError\u001b[0m                                  Traceback (most recent call last)",
      "Input \u001b[0;32mIn [17]\u001b[0m, in \u001b[0;36m<module>\u001b[0;34m\u001b[0m\n\u001b[0;32m----> 1\u001b[0m \u001b[43mdesayuno\u001b[49m\u001b[43m[\u001b[49m\u001b[38;5;124;43m'\u001b[39;49m\u001b[38;5;124;43mSábado\u001b[39;49m\u001b[38;5;124;43m'\u001b[39;49m\u001b[43m]\u001b[49m\n",
      "\u001b[0;31mKeyError\u001b[0m: 'Sábado'"
     ]
    }
   ],
   "source": [
    "desayuno['Sábado']"
   ]
  },
  {
   "cell_type": "markdown",
   "metadata": {},
   "source": [
    "El método `get()` regresa un valor `None` si no encuentra el valor de la llave."
   ]
  },
  {
   "cell_type": "code",
   "execution_count": 18,
   "metadata": {},
   "outputs": [],
   "source": [
    "desayuno.get('Sábado')"
   ]
  },
  {
   "cell_type": "code",
   "execution_count": 3,
   "metadata": {},
   "outputs": [
    {
     "data": {
      "text/plain": [
       "dict"
      ]
     },
     "execution_count": 3,
     "metadata": {},
     "output_type": "execute_result"
    }
   ],
   "source": [
    "type(desayuno)"
   ]
  },
  {
   "cell_type": "code",
   "execution_count": 8,
   "metadata": {},
   "outputs": [
    {
     "data": {
      "text/plain": [
       "dict_items([('Lunes', 'Chilaquiles'), ('Martes', 'Huevos rancheros'), ('Miércoles', 'Zucaritas'), ('Jueves', 'Quesadillas (con queso)'), ('Viernes', 'Guajolota Combo Mix')])"
      ]
     },
     "execution_count": 8,
     "metadata": {},
     "output_type": "execute_result"
    }
   ],
   "source": [
    "desayuno.items()"
   ]
  },
  {
   "cell_type": "code",
   "execution_count": 6,
   "metadata": {},
   "outputs": [
    {
     "data": {
      "text/plain": [
       "dict_values(['Chilaquiles', 'Huevos rancheros', 'Zucaritas', 'Quesadillas (con queso)', 'Guajolota Combo Mix'])"
      ]
     },
     "execution_count": 6,
     "metadata": {},
     "output_type": "execute_result"
    }
   ],
   "source": [
    "desayuno.values()"
   ]
  },
  {
   "cell_type": "code",
   "execution_count": 7,
   "metadata": {},
   "outputs": [
    {
     "data": {
      "text/plain": [
       "dict_keys(['Lunes', 'Martes', 'Miércoles', 'Jueves', 'Viernes'])"
      ]
     },
     "execution_count": 7,
     "metadata": {},
     "output_type": "execute_result"
    }
   ],
   "source": [
    "desayuno.keys()"
   ]
  },
  {
   "cell_type": "markdown",
   "metadata": {},
   "source": [
    "Los diccionarios en Python son:\n",
    "\n",
    "* **heterogéneas**: pueden estar conformadas por elementos de distintos *tipo*, incluidos otros diccionarios.\n",
    "* **mutables**: sus elementos pueden modificarse."
   ]
  },
  {
   "cell_type": "code",
   "execution_count": 49,
   "metadata": {},
   "outputs": [],
   "source": [
    "dict_mix = {\n",
    "  \"A\": desayuno,\n",
    "  \"B\": (False, True),\n",
    "  \"C\": 1986,\n",
    "  \"D\": [\"uno\", \"dos\", \"tres\"]\n",
    "}"
   ]
  },
  {
   "cell_type": "markdown",
   "metadata": {},
   "source": [
    "¿Cómo podríamos acceder al valor `\"dos\"`?"
   ]
  },
  {
   "cell_type": "markdown",
   "metadata": {},
   "source": [
    "**Modificar la llave v1**: copiar la llave a una llave con un nuevo nombre y eliminar la llave anterior."
   ]
  },
  {
   "cell_type": "code",
   "execution_count": 40,
   "metadata": {},
   "outputs": [],
   "source": [
    "dict_mix[\"Desayunos\"] = dict_mix[\"A\"]"
   ]
  },
  {
   "cell_type": "code",
   "execution_count": 41,
   "metadata": {},
   "outputs": [],
   "source": [
    "del dict_mix[\"A\"]"
   ]
  },
  {
   "cell_type": "code",
   "execution_count": 42,
   "metadata": {},
   "outputs": [
    {
     "data": {
      "text/plain": [
       "{'B': (False, True),\n",
       " 'C': 1986,\n",
       " 'D': ['uno', 'dos', 'tres'],\n",
       " 'Desayunos': {'Lunes': 'Chilaquiles',\n",
       "  'Martes': 'Huevos rancheros',\n",
       "  'Miércoles': 'Zucaritas',\n",
       "  'Jueves': 'Quesadillas (con queso)',\n",
       "  'Viernes': 'Guajolota Combo Mix'}}"
      ]
     },
     "execution_count": 42,
     "metadata": {},
     "output_type": "execute_result"
    }
   ],
   "source": [
    "dict_mix"
   ]
  },
  {
   "cell_type": "markdown",
   "metadata": {},
   "source": [
    "**Modificar la llave v2**: usando la función `pop()`."
   ]
  },
  {
   "cell_type": "code",
   "execution_count": 43,
   "metadata": {},
   "outputs": [],
   "source": [
    "dict_mix[\"Números\"] = dict_mix.pop(\"D\")"
   ]
  },
  {
   "cell_type": "code",
   "execution_count": 44,
   "metadata": {},
   "outputs": [
    {
     "data": {
      "text/plain": [
       "{'B': (False, True),\n",
       " 'C': 1986,\n",
       " 'Desayunos': {'Lunes': 'Chilaquiles',\n",
       "  'Martes': 'Huevos rancheros',\n",
       "  'Miércoles': 'Zucaritas',\n",
       "  'Jueves': 'Quesadillas (con queso)',\n",
       "  'Viernes': 'Guajolota Combo Mix'},\n",
       " 'Números': ['uno', 'dos', 'tres']}"
      ]
     },
     "execution_count": 44,
     "metadata": {},
     "output_type": "execute_result"
    }
   ],
   "source": [
    "dict_mix"
   ]
  },
  {
   "cell_type": "markdown",
   "metadata": {},
   "source": [
    "**Modificar valores**: redefinir mediante asignación."
   ]
  },
  {
   "cell_type": "code",
   "execution_count": 45,
   "metadata": {},
   "outputs": [],
   "source": [
    "dict_mix['C'] = 2022"
   ]
  },
  {
   "cell_type": "code",
   "execution_count": 46,
   "metadata": {},
   "outputs": [
    {
     "data": {
      "text/plain": [
       "{'B': (False, True),\n",
       " 'C': 2022,\n",
       " 'Desayunos': {'Lunes': 'Chilaquiles',\n",
       "  'Martes': 'Huevos rancheros',\n",
       "  'Miércoles': 'Zucaritas',\n",
       "  'Jueves': 'Quesadillas (con queso)',\n",
       "  'Viernes': 'Guajolota Combo Mix'},\n",
       " 'Números': ['uno', 'dos', 'tres']}"
      ]
     },
     "execution_count": 46,
     "metadata": {},
     "output_type": "execute_result"
    }
   ],
   "source": [
    "dict_mix"
   ]
  },
  {
   "cell_type": "markdown",
   "metadata": {},
   "source": [
    "¿Cómo podríamos agregar un valor a la lista de `Números`?"
   ]
  },
  {
   "cell_type": "markdown",
   "metadata": {},
   "source": [
    "### Tuplas"
   ]
  },
  {
   "cell_type": "markdown",
   "metadata": {},
   "source": [
    "Las tuplas son un registro de campos que no tienen nombre. Son datos inmutables, no se pueden modificar una vez definidos."
   ]
  },
  {
   "cell_type": "code",
   "execution_count": 53,
   "metadata": {},
   "outputs": [],
   "source": [
    "datos = {\"Nombre\": \"Otto\", \"Edad\": 35}\n",
    "\n",
    "name, age = datos[\"Nombre\"], datos[\"Edad\"]"
   ]
  },
  {
   "cell_type": "code",
   "execution_count": 54,
   "metadata": {},
   "outputs": [
    {
     "name": "stdout",
     "output_type": "stream",
     "text": [
      "Otto 35\n"
     ]
    }
   ],
   "source": [
    "print(name, age)"
   ]
  },
  {
   "cell_type": "code",
   "execution_count": 55,
   "metadata": {},
   "outputs": [],
   "source": [
    "persona = (\"Otto\", 35)\n",
    "name, age = persona"
   ]
  },
  {
   "cell_type": "code",
   "execution_count": 56,
   "metadata": {},
   "outputs": [
    {
     "name": "stdout",
     "output_type": "stream",
     "text": [
      "Otto 35\n"
     ]
    }
   ],
   "source": [
    "print(name, age)"
   ]
  },
  {
   "cell_type": "code",
   "execution_count": 58,
   "metadata": {},
   "outputs": [],
   "source": [
    "esta_es_una_tupla = 1, 2, 3, 4"
   ]
  },
  {
   "cell_type": "code",
   "execution_count": 59,
   "metadata": {},
   "outputs": [
    {
     "data": {
      "text/plain": [
       "tuple"
      ]
     },
     "execution_count": 59,
     "metadata": {},
     "output_type": "execute_result"
    }
   ],
   "source": [
    "type(esta_es_una_tupla)"
   ]
  },
  {
   "cell_type": "code",
   "execution_count": 60,
   "metadata": {},
   "outputs": [],
   "source": [
    "esta_tambien_es_una_tupla = (1, 2, 3, 4)"
   ]
  },
  {
   "cell_type": "code",
   "execution_count": 61,
   "metadata": {},
   "outputs": [
    {
     "data": {
      "text/plain": [
       "tuple"
      ]
     },
     "execution_count": 61,
     "metadata": {},
     "output_type": "execute_result"
    }
   ],
   "source": [
    "type(esta_tambien_es_una_tupla)"
   ]
  },
  {
   "cell_type": "markdown",
   "metadata": {},
   "source": [
    "Operadores que se pueden utilizar con tuplas: `+`, `*`, `[]`, `[:]`, `in`, `not in`"
   ]
  }
 ],
 "metadata": {
  "kernelspec": {
   "display_name": "Python 3",
   "language": "python",
   "name": "python3"
  },
  "language_info": {
   "codemirror_mode": {
    "name": "ipython",
    "version": 3
   },
   "file_extension": ".py",
   "mimetype": "text/x-python",
   "name": "python",
   "nbconvert_exporter": "python",
   "pygments_lexer": "ipython3",
   "version": "3.9.9"
  }
 },
 "nbformat": 4,
 "nbformat_minor": 4
}
